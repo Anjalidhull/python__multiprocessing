{
 "cells": [
  {
   "cell_type": "code",
   "execution_count": null,
   "id": "c99e13df-de46-4e47-b116-68c081fe5255",
   "metadata": {},
   "outputs": [],
   "source": [
    "Q1. What is multiprocessing in python? Why is it useful?\n",
    "Q2. What are the differences between multiprocessing and multithreading?\n",
    "Q3. Write a python code to create a process using the multiprocessing module.\n",
    "Q4. What is a multiprocessing pool in python? Why is it used?\n",
    "Q5. How can we create a pool of worker processes in python using the multiprocessing module?\n",
    "Q6. Write a python program to create 4 processes, each process should print a different number using the\n",
    "multiprocessing module in python."
   ]
  },
  {
   "cell_type": "code",
   "execution_count": null,
   "id": "f2702ab9-447c-4fe2-8d97-a2f9d971a87f",
   "metadata": {},
   "outputs": [],
   "source": [
    "Q1. What is multiprocessing in python? Why is it useful?"
   ]
  },
  {
   "cell_type": "code",
   "execution_count": null,
   "id": "a8f759d8-d972-48d9-a602-df62873f6bc5",
   "metadata": {},
   "outputs": [],
   "source": [
    "Multiprocessing in Python is a module that allows the execution of multiple processes concurrently, enabling \n",
    "parallelism in Python programs. It allows developers to create separate processes that run independently and \n",
    "can perform tasks simultaneously, taking advantage of multi-core processors and distributed computing environments.\n",
    "The multiprocessing module provides an interface similar to the threading module, but instead of creating multiple\n",
    "threads within a single process, it creates multiple separate processes."
   ]
  },
  {
   "cell_type": "code",
   "execution_count": null,
   "id": "8d557604-da6f-4ae4-9b94-7c98abde020e",
   "metadata": {},
   "outputs": [],
   "source": [
    "Q2. What are the differences between multiprocessing and multithreading?\n"
   ]
  },
  {
   "cell_type": "markdown",
   "id": "e7b62eb3-a1fc-49a3-b4d2-8e13fcd6983b",
   "metadata": {},
   "source": [
    "Definition:"
   ]
  },
  {
   "cell_type": "code",
   "execution_count": null,
   "id": "a05147a0-5704-4cbc-b1a7-7caef4986574",
   "metadata": {},
   "outputs": [],
   "source": [
    "\n",
    "Multiprocessing: Multiprocessing involves running multiple processes concurrently, where each process has its own memory space \n",
    "and runs independently of other processes. Each process has its interpreter and Python Virtual Machine (PVM) instance. \n",
    "The multiprocessing module in Python allows developers to create and manage multiple processes.\n",
    "Multithreading: Multithreading involves running multiple threads concurrently within a single process. All threads \n",
    "within a process share the same memory space and resources, including the global variables. The threading module\n",
    "in Python allows developers to create and manage multiple threads."
   ]
  },
  {
   "cell_type": "markdown",
   "id": "3b0d2e37-0cdf-4073-88c5-81e726be62b3",
   "metadata": {},
   "source": [
    "Isolation:"
   ]
  },
  {
   "cell_type": "code",
   "execution_count": null,
   "id": "5c4f3105-82b0-4dde-bbee-2f7c6a3a5622",
   "metadata": {},
   "outputs": [],
   "source": [
    "Multiprocessing: Since each process has its own memory space, they are isolated from each other. Any issues or crashes in one process do not affect others.\n",
    "Multithreading: Threads within a process share the same memory space. While this can lead to efficient communication between threads, it also introduces the\n",
    "possibility of race conditions and deadlocks if proper synchronization mechanisms are not implemented."
   ]
  },
  {
   "cell_type": "markdown",
   "id": "094cfb59-b016-44f2-b5fb-be423e1df62c",
   "metadata": {},
   "source": [
    "GIL (Global Interpreter Lock):"
   ]
  },
  {
   "cell_type": "code",
   "execution_count": null,
   "id": "63a125e4-8e98-49e1-b636-f5bb96c9b30f",
   "metadata": {},
   "outputs": [],
   "source": [
    "Multiprocessing: Each process in multiprocessing runs in a separate interpreter with its GIL.\n",
    "As a result, each process can fully utilize multi-core processors, allowing true parallelism \n",
    "for CPU-bound tasks.\n",
    "Multithreading: In multithreading, all threads within a process share the same GIL. Therefore\n",
    "even though you may have multiple threads, only one thread can execute Python bytecode at a time, \n",
    "making it less effective for CPU-bound tasks."
   ]
  },
  {
   "cell_type": "markdown",
   "id": "a753612a-1d0e-4b40-80f2-eb25092db0ad",
   "metadata": {},
   "source": [
    "Communication and Overhead:\n"
   ]
  },
  {
   "cell_type": "code",
   "execution_count": null,
   "id": "011bacda-3bd7-4d5d-8c53-e0e9f0457afc",
   "metadata": {},
   "outputs": [],
   "source": [
    "Multiprocessing: Inter-process communication (IPC) is needed for data exchange between processes, which can introduce some overhead. \n",
    "However, the isolation between processes avoids common concurrency issues like race conditions.\n",
    "Multithreading: Threads within a process can communicate easily through shared memory. While this can reduce overhead, it can also \n",
    "introduce the risk of race conditions and requires careful synchronization."
   ]
  },
  {
   "cell_type": "code",
   "execution_count": null,
   "id": "ef2949f4-a72e-49e9-819a-cd98e4f208c4",
   "metadata": {},
   "outputs": [],
   "source": [
    "Q3. Write a python code to create a process using the multiprocessing module.\n"
   ]
  },
  {
   "cell_type": "code",
   "execution_count": 25,
   "id": "f2667bb1-7ce7-4351-96bf-ae52946f5d07",
   "metadata": {},
   "outputs": [
    {
     "name": "stdout",
     "output_type": "stream",
     "text": [
      "this is my main program \n",
      "this is my program\n"
     ]
    }
   ],
   "source": [
    "import multiprocessing\n",
    "def test():\n",
    "    print('this is my program')\n",
    "    \n",
    "if __name__ == '__main__':\n",
    "    m=multiprocessing.Process(target=test)\n",
    "    print('this is my main program ')\n",
    "    m.start()\n",
    "    m.join()\n",
    "    "
   ]
  },
  {
   "cell_type": "code",
   "execution_count": null,
   "id": "c1d429a8-cdb6-478f-b0fc-394f041e8cc7",
   "metadata": {},
   "outputs": [],
   "source": [
    "Q4.What is a multiprocessing pool in python? Why is it used?"
   ]
  },
  {
   "cell_type": "code",
   "execution_count": null,
   "id": "fea75797-a4a0-42f3-b61a-c801cd8f4b32",
   "metadata": {},
   "outputs": [],
   "source": [
    "A multiprocessing pool in Python is a mechanism provided by the multiprocessing module that allows for easy parallel execution of a function \n",
    "on a collection of data using multiple processes. The pool distributes the workload among a specified number of processes, each running on a\n",
    "separate CPU core, to achieve parallel processing."
   ]
  },
  {
   "cell_type": "code",
   "execution_count": null,
   "id": "96ddbe9a-c757-460d-bd7c-c1bbb5c24ae1",
   "metadata": {},
   "outputs": [],
   "source": [
    "Parallelism and Performance:\n",
    "    A multiprocessing pool allows you to take advantage of multiple CPU cores and execute tasks in parallel. This can significantly improve\n",
    "    the performance and speed up the processing of CPU-bound tasks\n",
    "    , especially when dealing with large datasets or computationally intensive operations."
   ]
  },
  {
   "cell_type": "code",
   "execution_count": null,
   "id": "93969ff4-c53a-4d61-a275-90d5cd882139",
   "metadata": {},
   "outputs": [],
   "source": [
    "Simplified Implementation:\n",
    "    The multiprocessing pool abstracts away much of the complexity involved in managing multiple processes, making it easier \n",
    "    for developers to implement parallel processing without dealing with low-level process creation and synchronization."
   ]
  },
  {
   "cell_type": "code",
   "execution_count": null,
   "id": "638b0cb3-2147-4a36-9ec3-e86b6ec72336",
   "metadata": {},
   "outputs": [],
   "source": [
    "Q5 How can we create a pool of worker processes in python using the multiprocessing module?"
   ]
  },
  {
   "cell_type": "code",
   "execution_count": null,
   "id": "8f2fb2fc-1d70-435d-8f6f-e6ea92fbb9be",
   "metadata": {},
   "outputs": [],
   "source": [
    "To create a pool of worker processes in Python using the multiprocessing module, you can use the multiprocessing.Pool class. "
   ]
  },
  {
   "cell_type": "code",
   "execution_count": 26,
   "id": "1ce2c337-0777-404e-aea4-a9a84f8b72ee",
   "metadata": {},
   "outputs": [
    {
     "name": "stdout",
     "output_type": "stream",
     "text": [
      "[1, 16, 25, 4, 9, 49, 64, 81, 0, 100]\n"
     ]
    }
   ],
   "source": [
    "# example--->\n",
    "def square(n):\n",
    "    return n**2\n",
    "if __name__ ==\"__main__\":\n",
    "    with multiprocessing.Pool(processes=4) as pool :\n",
    "        out= pool.map(square,[1,4,5,2,3,7,8,9,0,10])\n",
    "        print(out)"
   ]
  },
  {
   "cell_type": "code",
   "execution_count": null,
   "id": "a9e2954d-cdba-4182-888b-32f2a916c184",
   "metadata": {},
   "outputs": [],
   "source": [
    "Q6. Write a python program to create 4 processes, each process should print a different number using the\n",
    "multiprocessing module in python."
   ]
  },
  {
   "cell_type": "code",
   "execution_count": 27,
   "id": "3ff2e0e6-b6db-442e-90c0-1a8d461a064b",
   "metadata": {},
   "outputs": [
    {
     "name": "stdout",
     "output_type": "stream",
     "text": [
      "Process 1: This is process 1.\n",
      "Process 2: This is process 2.\n",
      "Process 3: This is process 3.\n",
      "Process 4: This is process 4.\n",
      "All processes have completed.\n"
     ]
    }
   ],
   "source": [
    "import multiprocessing\n",
    "\n",
    "def print_number(number):\n",
    "    print(f\"Process {number}: This is process {number}.\")\n",
    "\n",
    "if __name__ == \"__main__\":\n",
    "    processes = []\n",
    "\n",
    "    # Create 4 processes\n",
    "    for i in range(1, 5):\n",
    "        process = multiprocessing.Process(target=print_number, args=(i,))\n",
    "        processes.append(process)\n",
    "        process.start()\n",
    "\n",
    "    # Wait for all processes to finish\n",
    "    for process in processes:\n",
    "        process.join()\n",
    "\n",
    "    print(\"All processes have completed.\")\n"
   ]
  },
  {
   "cell_type": "code",
   "execution_count": null,
   "id": "0f3e4118-cb65-41c0-9b9d-9838c6edd666",
   "metadata": {},
   "outputs": [],
   "source": []
  }
 ],
 "metadata": {
  "kernelspec": {
   "display_name": "Python 3 (ipykernel)",
   "language": "python",
   "name": "python3"
  },
  "language_info": {
   "codemirror_mode": {
    "name": "ipython",
    "version": 3
   },
   "file_extension": ".py",
   "mimetype": "text/x-python",
   "name": "python",
   "nbconvert_exporter": "python",
   "pygments_lexer": "ipython3",
   "version": "3.10.8"
  }
 },
 "nbformat": 4,
 "nbformat_minor": 5
}
